{
 "cells": [
  {
   "cell_type": "markdown",
   "id": "fd393698",
   "metadata": {},
   "source": [
    "# Alguma estatisticas sobre os jogos passados da nba\n"
   ]
  },
  {
   "cell_type": "markdown",
   "id": "506a59e3",
   "metadata": {
    "heading_collapsed": true
   },
   "source": [
    "## Importando os dados"
   ]
  },
  {
   "cell_type": "code",
   "execution_count": 1,
   "id": "f11e99ba",
   "metadata": {
    "hidden": true
   },
   "outputs": [],
   "source": [
    "import pandas as pd\n"
   ]
  },
  {
   "cell_type": "code",
   "execution_count": 2,
   "id": "959db503",
   "metadata": {
    "hidden": true,
    "scrolled": true
   },
   "outputs": [
    {
     "data": {
      "text/html": [
       "<div>\n",
       "<style scoped>\n",
       "    .dataframe tbody tr th:only-of-type {\n",
       "        vertical-align: middle;\n",
       "    }\n",
       "\n",
       "    .dataframe tbody tr th {\n",
       "        vertical-align: top;\n",
       "    }\n",
       "\n",
       "    .dataframe thead th {\n",
       "        text-align: right;\n",
       "    }\n",
       "</style>\n",
       "<table border=\"1\" class=\"dataframe\">\n",
       "  <thead>\n",
       "    <tr style=\"text-align: right;\">\n",
       "      <th></th>\n",
       "      <th>date</th>\n",
       "      <th>match</th>\n",
       "      <th>winner</th>\n",
       "      <th>point_winner</th>\n",
       "      <th>loser</th>\n",
       "      <th>point_loser</th>\n",
       "    </tr>\n",
       "  </thead>\n",
       "  <tbody>\n",
       "    <tr>\n",
       "      <th>0</th>\n",
       "      <td>2021-10-03</td>\n",
       "      <td>Lakers-Nets</td>\n",
       "      <td>Nets</td>\n",
       "      <td>123</td>\n",
       "      <td>Lakers</td>\n",
       "      <td>97</td>\n",
       "    </tr>\n",
       "    <tr>\n",
       "      <th>1</th>\n",
       "      <td>2021-10-04</td>\n",
       "      <td>Raptors-76ers</td>\n",
       "      <td>Raptors</td>\n",
       "      <td>123</td>\n",
       "      <td>76ers</td>\n",
       "      <td>107</td>\n",
       "    </tr>\n",
       "    <tr>\n",
       "      <th>2</th>\n",
       "      <td>2021-10-04</td>\n",
       "      <td>Heat-Hawks</td>\n",
       "      <td>Heat</td>\n",
       "      <td>125</td>\n",
       "      <td>Hawks</td>\n",
       "      <td>99</td>\n",
       "    </tr>\n",
       "    <tr>\n",
       "      <th>3</th>\n",
       "      <td>2021-10-04</td>\n",
       "      <td>Celtics-Magic</td>\n",
       "      <td>Celtics</td>\n",
       "      <td>98</td>\n",
       "      <td>Magic</td>\n",
       "      <td>97</td>\n",
       "    </tr>\n",
       "    <tr>\n",
       "      <th>4</th>\n",
       "      <td>2021-10-04</td>\n",
       "      <td>Tim-Pelicans</td>\n",
       "      <td>Tim</td>\n",
       "      <td>117</td>\n",
       "      <td>Pelicans</td>\n",
       "      <td>114</td>\n",
       "    </tr>\n",
       "  </tbody>\n",
       "</table>\n",
       "</div>"
      ],
      "text/plain": [
       "        date          match   winner  point_winner     loser  point_loser\n",
       "0 2021-10-03    Lakers-Nets     Nets           123    Lakers           97\n",
       "1 2021-10-04  Raptors-76ers  Raptors           123     76ers          107\n",
       "2 2021-10-04     Heat-Hawks     Heat           125     Hawks           99\n",
       "3 2021-10-04  Celtics-Magic  Celtics            98     Magic           97\n",
       "4 2021-10-04   Tim-Pelicans      Tim           117  Pelicans          114"
      ]
     },
     "execution_count": 2,
     "metadata": {},
     "output_type": "execute_result"
    }
   ],
   "source": [
    "df = pd.read_excel('nba2021.xlsx')\n",
    "df.head()\n"
   ]
  },
  {
   "cell_type": "markdown",
   "id": "222d71b0",
   "metadata": {
    "heading_collapsed": true
   },
   "source": [
    "# Analise exploratoria"
   ]
  },
  {
   "cell_type": "markdown",
   "id": "abfa09b8",
   "metadata": {
    "heading_collapsed": true,
    "hidden": true
   },
   "source": [
    "## O que queremos entregar\n",
    "-Quantidade de vitoria time A \n",
    "\n",
    "-Quantidade de vitoria time B\n",
    "\n",
    "-Quantidade de derrota time A\n",
    "\n",
    "-Quantidade de derrota time B\n",
    "\n",
    "-Quantos confrontos os dois times ja tiveram\n",
    "\n",
    "-Média de pontos entre os dois times"
   ]
  },
  {
   "cell_type": "markdown",
   "id": "6541e75b",
   "metadata": {
    "heading_collapsed": true,
    "hidden": true
   },
   "source": [
    "### Código"
   ]
  },
  {
   "cell_type": "markdown",
   "id": "149871fb",
   "metadata": {
    "hidden": true,
    "scrolled": false
   },
   "source": [
    "\n"
   ]
  },
  {
   "cell_type": "code",
   "execution_count": 97,
   "id": "e169a030",
   "metadata": {
    "hidden": true
   },
   "outputs": [],
   "source": [
    "a= 'Knicks'\n",
    "b= '76ers'\n",
    "def estatisticas(a, b):\n",
    "    dadosA = df[df['winner'] == a].copy()\n",
    "    vitA = len(dadosA)\n",
    "        \n",
    "    dadosB = df[df['winner'] == b].copy()\n",
    "    vitB = len(dadosB)\n",
    "    \n",
    "    dadoA = df[df['loser'] == a].copy()\n",
    "    derrA = len(dadoA)\n",
    "    \n",
    "    dadoB = df[df['loser'] == b].copy()\n",
    "    derrB = len(dadoB)\n",
    "    print(f'''Time      Vitória   Derrota\n",
    "{a}      {vitA}        {derrA}\n",
    "{b}      {vitB}        {derrB}''')\n",
    "    \n",
    "    j_entreBA = df[df['match'] == f'{b}-{a}'].copy()\n",
    "    j_entreAB = df[df['match'] == f'{a}-{b}'].copy()\n",
    "    \n",
    "    if (len(j_entreBA) == 0) & (len(j_entreAB) != 0):\n",
    "        print('Total de jogos entre eles: ', len(j_entreAB))\n",
    "        display(j_entreAB)\n",
    "    \n",
    "    elif (len(j_entreBA) != 0) & (len(j_entreAB) == 0):\n",
    "        print('Total de jogos entre eles: ', len(j_entreBA))\n",
    "        display(j_entreBA)\n",
    "    \n",
    "    elif (len(j_entreBA) == 0) & (len(j_entreAB) == 0):\n",
    "        print('Total de jogos entre eles: ', \"ZERO\")\n",
    "    \n",
    "    else:\n",
    "        print('Total de jogos entre eles: ', len(j_entreBA) + len(j_entreAB))\n",
    "        display(j_entreAB)\n",
    "        display(j_entreBA)\n",
    "    \n",
    "    return\n",
    "        "
   ]
  },
  {
   "cell_type": "markdown",
   "id": "9918b818",
   "metadata": {},
   "source": [
    "# Resultado final"
   ]
  },
  {
   "cell_type": "code",
   "execution_count": 101,
   "id": "1ae2673c",
   "metadata": {},
   "outputs": [
    {
     "name": "stdout",
     "output_type": "stream",
     "text": [
      "Time      Vitória   Derrota\n",
      "Lakers      5        11\n",
      "Warriors      13        1\n",
      "Total de jogos entre eles:  3\n"
     ]
    },
    {
     "data": {
      "text/html": [
       "<div>\n",
       "<style scoped>\n",
       "    .dataframe tbody tr th:only-of-type {\n",
       "        vertical-align: middle;\n",
       "    }\n",
       "\n",
       "    .dataframe tbody tr th {\n",
       "        vertical-align: top;\n",
       "    }\n",
       "\n",
       "    .dataframe thead th {\n",
       "        text-align: right;\n",
       "    }\n",
       "</style>\n",
       "<table border=\"1\" class=\"dataframe\">\n",
       "  <thead>\n",
       "    <tr style=\"text-align: right;\">\n",
       "      <th></th>\n",
       "      <th>date</th>\n",
       "      <th>match</th>\n",
       "      <th>winner</th>\n",
       "      <th>point_winner</th>\n",
       "      <th>loser</th>\n",
       "      <th>point_loser</th>\n",
       "    </tr>\n",
       "  </thead>\n",
       "  <tbody>\n",
       "    <tr>\n",
       "      <th>46</th>\n",
       "      <td>2021-10-12</td>\n",
       "      <td>Lakers-Warriors</td>\n",
       "      <td>Warriors</td>\n",
       "      <td>111</td>\n",
       "      <td>Lakers</td>\n",
       "      <td>99</td>\n",
       "    </tr>\n",
       "    <tr>\n",
       "      <th>67</th>\n",
       "      <td>2021-10-19</td>\n",
       "      <td>Lakers-Warriors</td>\n",
       "      <td>Warriors</td>\n",
       "      <td>121</td>\n",
       "      <td>Lakers</td>\n",
       "      <td>114</td>\n",
       "    </tr>\n",
       "  </tbody>\n",
       "</table>\n",
       "</div>"
      ],
      "text/plain": [
       "         date            match    winner  point_winner   loser  point_loser\n",
       "46 2021-10-12  Lakers-Warriors  Warriors           111  Lakers           99\n",
       "67 2021-10-19  Lakers-Warriors  Warriors           121  Lakers          114"
      ]
     },
     "metadata": {},
     "output_type": "display_data"
    },
    {
     "data": {
      "text/html": [
       "<div>\n",
       "<style scoped>\n",
       "    .dataframe tbody tr th:only-of-type {\n",
       "        vertical-align: middle;\n",
       "    }\n",
       "\n",
       "    .dataframe tbody tr th {\n",
       "        vertical-align: top;\n",
       "    }\n",
       "\n",
       "    .dataframe thead th {\n",
       "        text-align: right;\n",
       "    }\n",
       "</style>\n",
       "<table border=\"1\" class=\"dataframe\">\n",
       "  <thead>\n",
       "    <tr style=\"text-align: right;\">\n",
       "      <th></th>\n",
       "      <th>date</th>\n",
       "      <th>match</th>\n",
       "      <th>winner</th>\n",
       "      <th>point_winner</th>\n",
       "      <th>loser</th>\n",
       "      <th>point_loser</th>\n",
       "    </tr>\n",
       "  </thead>\n",
       "  <tbody>\n",
       "    <tr>\n",
       "      <th>30</th>\n",
       "      <td>2021-10-08</td>\n",
       "      <td>Warriors-Lakers</td>\n",
       "      <td>Warriors</td>\n",
       "      <td>121</td>\n",
       "      <td>Lakers</td>\n",
       "      <td>114</td>\n",
       "    </tr>\n",
       "  </tbody>\n",
       "</table>\n",
       "</div>"
      ],
      "text/plain": [
       "         date            match    winner  point_winner   loser  point_loser\n",
       "30 2021-10-08  Warriors-Lakers  Warriors           121  Lakers          114"
      ]
     },
     "metadata": {},
     "output_type": "display_data"
    }
   ],
   "source": [
    "estatisticas('Lakers', 'Warriors')"
   ]
  },
  {
   "cell_type": "code",
   "execution_count": null,
   "id": "0596197f",
   "metadata": {},
   "outputs": [],
   "source": []
  },
  {
   "cell_type": "code",
   "execution_count": null,
   "id": "5ae45231",
   "metadata": {},
   "outputs": [],
   "source": []
  },
  {
   "cell_type": "code",
   "execution_count": null,
   "id": "d45ee881",
   "metadata": {},
   "outputs": [],
   "source": []
  },
  {
   "cell_type": "code",
   "execution_count": null,
   "id": "979a787a",
   "metadata": {},
   "outputs": [],
   "source": []
  },
  {
   "cell_type": "code",
   "execution_count": null,
   "id": "af777d50",
   "metadata": {},
   "outputs": [],
   "source": []
  },
  {
   "cell_type": "code",
   "execution_count": null,
   "id": "1797a238",
   "metadata": {},
   "outputs": [],
   "source": [
    "\n"
   ]
  },
  {
   "cell_type": "code",
   "execution_count": null,
   "id": "416da04f",
   "metadata": {},
   "outputs": [],
   "source": []
  },
  {
   "cell_type": "code",
   "execution_count": null,
   "id": "df796fde",
   "metadata": {},
   "outputs": [],
   "source": []
  },
  {
   "cell_type": "code",
   "execution_count": null,
   "id": "533795bd",
   "metadata": {},
   "outputs": [],
   "source": []
  },
  {
   "cell_type": "code",
   "execution_count": null,
   "id": "17e59f08",
   "metadata": {},
   "outputs": [],
   "source": []
  },
  {
   "cell_type": "code",
   "execution_count": null,
   "id": "9195bdd6",
   "metadata": {},
   "outputs": [],
   "source": []
  }
 ],
 "metadata": {
  "kernelspec": {
   "display_name": "Python 3",
   "language": "python",
   "name": "python3"
  },
  "language_info": {
   "codemirror_mode": {
    "name": "ipython",
    "version": 3
   },
   "file_extension": ".py",
   "mimetype": "text/x-python",
   "name": "python",
   "nbconvert_exporter": "python",
   "pygments_lexer": "ipython3",
   "version": "3.8.8"
  }
 },
 "nbformat": 4,
 "nbformat_minor": 5
}
