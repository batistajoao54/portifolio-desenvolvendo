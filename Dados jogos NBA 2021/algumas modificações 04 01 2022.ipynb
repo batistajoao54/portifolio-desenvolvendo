{
 "cells": [
  {
   "cell_type": "code",
   "execution_count": 1,
   "id": "a9c8c770",
   "metadata": {},
   "outputs": [],
   "source": [
    "import pandas as pd\n",
    "import json"
   ]
  },
  {
   "cell_type": "code",
   "execution_count": 2,
   "id": "44835ec2",
   "metadata": {},
   "outputs": [
    {
     "data": {
      "text/html": [
       "<div>\n",
       "<style scoped>\n",
       "    .dataframe tbody tr th:only-of-type {\n",
       "        vertical-align: middle;\n",
       "    }\n",
       "\n",
       "    .dataframe tbody tr th {\n",
       "        vertical-align: top;\n",
       "    }\n",
       "\n",
       "    .dataframe thead th {\n",
       "        text-align: right;\n",
       "    }\n",
       "</style>\n",
       "<table border=\"1\" class=\"dataframe\">\n",
       "  <thead>\n",
       "    <tr style=\"text-align: right;\">\n",
       "      <th></th>\n",
       "      <th>date</th>\n",
       "      <th>match</th>\n",
       "      <th>winner</th>\n",
       "      <th>point_winner</th>\n",
       "      <th>loser</th>\n",
       "      <th>point_loser</th>\n",
       "    </tr>\n",
       "  </thead>\n",
       "  <tbody>\n",
       "    <tr>\n",
       "      <th>0</th>\n",
       "      <td>2021-10-03</td>\n",
       "      <td>Lakers-Nets</td>\n",
       "      <td>Nets</td>\n",
       "      <td>123</td>\n",
       "      <td>Lakers</td>\n",
       "      <td>97</td>\n",
       "    </tr>\n",
       "    <tr>\n",
       "      <th>1</th>\n",
       "      <td>2021-10-04</td>\n",
       "      <td>Raptors-76ers</td>\n",
       "      <td>Raptors</td>\n",
       "      <td>123</td>\n",
       "      <td>76ers</td>\n",
       "      <td>107</td>\n",
       "    </tr>\n",
       "    <tr>\n",
       "      <th>2</th>\n",
       "      <td>2021-10-04</td>\n",
       "      <td>Heat-Hawks</td>\n",
       "      <td>Heat</td>\n",
       "      <td>125</td>\n",
       "      <td>Hawks</td>\n",
       "      <td>99</td>\n",
       "    </tr>\n",
       "    <tr>\n",
       "      <th>3</th>\n",
       "      <td>2021-10-04</td>\n",
       "      <td>Celtics-Magic</td>\n",
       "      <td>Celtics</td>\n",
       "      <td>98</td>\n",
       "      <td>Magic</td>\n",
       "      <td>97</td>\n",
       "    </tr>\n",
       "    <tr>\n",
       "      <th>4</th>\n",
       "      <td>2021-10-04</td>\n",
       "      <td>Tim-Pelicans</td>\n",
       "      <td>Tim</td>\n",
       "      <td>117</td>\n",
       "      <td>Pelicans</td>\n",
       "      <td>114</td>\n",
       "    </tr>\n",
       "  </tbody>\n",
       "</table>\n",
       "</div>"
      ],
      "text/plain": [
       "        date          match   winner  point_winner     loser  point_loser\n",
       "0 2021-10-03    Lakers-Nets     Nets           123    Lakers           97\n",
       "1 2021-10-04  Raptors-76ers  Raptors           123     76ers          107\n",
       "2 2021-10-04     Heat-Hawks     Heat           125     Hawks           99\n",
       "3 2021-10-04  Celtics-Magic  Celtics            98     Magic           97\n",
       "4 2021-10-04   Tim-Pelicans      Tim           117  Pelicans          114"
      ]
     },
     "execution_count": 2,
     "metadata": {},
     "output_type": "execute_result"
    }
   ],
   "source": [
    "df = pd.read_excel('nba2021.xlsx')\n",
    "df.head()\n"
   ]
  },
  {
   "cell_type": "code",
   "execution_count": 11,
   "id": "77c3b3f1",
   "metadata": {},
   "outputs": [],
   "source": [
    "somawin = df['point_winner'].sum()\n",
    "somaloser = df['point_loser'].sum()"
   ]
  },
  {
   "cell_type": "code",
   "execution_count": 23,
   "id": "49200827",
   "metadata": {},
   "outputs": [
    {
     "name": "stdout",
     "output_type": "stream",
     "text": [
      "{'win': 46767.0, 'loser': 41668.0}\n",
      "<class 'dict'>\n"
     ]
    }
   ],
   "source": [
    "dic = {'win' : float(somawin), 'loser': float(somaloser)}\n",
    "print(dic)\n",
    "print(type(dic))\n",
    "\n",
    "    "
   ]
  },
  {
   "cell_type": "code",
   "execution_count": 25,
   "id": "6672bd33",
   "metadata": {},
   "outputs": [
    {
     "name": "stdout",
     "output_type": "stream",
     "text": [
      "{\"win\": 46767.0, \"loser\": 41668.0}\n",
      "<class 'str'>\n"
     ]
    }
   ],
   "source": [
    "j = json.dumps(dic)\n",
    "print(j)\n",
    "print(type(j))"
   ]
  },
  {
   "cell_type": "code",
   "execution_count": null,
   "id": "b475fc63",
   "metadata": {},
   "outputs": [],
   "source": []
  },
  {
   "cell_type": "code",
   "execution_count": null,
   "id": "1b876c02",
   "metadata": {},
   "outputs": [],
   "source": []
  },
  {
   "cell_type": "code",
   "execution_count": null,
   "id": "4259f864",
   "metadata": {},
   "outputs": [],
   "source": []
  }
 ],
 "metadata": {
  "kernelspec": {
   "display_name": "Python 3",
   "language": "python",
   "name": "python3"
  },
  "language_info": {
   "codemirror_mode": {
    "name": "ipython",
    "version": 3
   },
   "file_extension": ".py",
   "mimetype": "text/x-python",
   "name": "python",
   "nbconvert_exporter": "python",
   "pygments_lexer": "ipython3",
   "version": "3.8.8"
  }
 },
 "nbformat": 4,
 "nbformat_minor": 5
}
