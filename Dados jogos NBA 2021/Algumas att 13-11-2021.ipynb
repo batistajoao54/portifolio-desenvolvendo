{
 "cells": [
  {
   "cell_type": "code",
   "execution_count": 4,
   "id": "24c91893",
   "metadata": {},
   "outputs": [],
   "source": [
    "import pandas as pd\n",
    "import plotly.offline as po\n",
    "import plotly.graph_objs as go"
   ]
  },
  {
   "cell_type": "code",
   "execution_count": 64,
   "id": "519a50c5",
   "metadata": {},
   "outputs": [
    {
     "data": {
      "text/html": [
       "<div>\n",
       "<style scoped>\n",
       "    .dataframe tbody tr th:only-of-type {\n",
       "        vertical-align: middle;\n",
       "    }\n",
       "\n",
       "    .dataframe tbody tr th {\n",
       "        vertical-align: top;\n",
       "    }\n",
       "\n",
       "    .dataframe thead th {\n",
       "        text-align: right;\n",
       "    }\n",
       "</style>\n",
       "<table border=\"1\" class=\"dataframe\">\n",
       "  <thead>\n",
       "    <tr style=\"text-align: right;\">\n",
       "      <th></th>\n",
       "      <th>date</th>\n",
       "      <th>match</th>\n",
       "      <th>winner</th>\n",
       "      <th>point_winner</th>\n",
       "      <th>loser</th>\n",
       "      <th>point_loser</th>\n",
       "    </tr>\n",
       "  </thead>\n",
       "  <tbody>\n",
       "    <tr>\n",
       "      <th>0</th>\n",
       "      <td>2021-10-03</td>\n",
       "      <td>Lakers-Nets</td>\n",
       "      <td>Nets</td>\n",
       "      <td>123</td>\n",
       "      <td>Lakers</td>\n",
       "      <td>97</td>\n",
       "    </tr>\n",
       "    <tr>\n",
       "      <th>1</th>\n",
       "      <td>2021-10-04</td>\n",
       "      <td>Raptors-76ers</td>\n",
       "      <td>Raptors</td>\n",
       "      <td>123</td>\n",
       "      <td>76ers</td>\n",
       "      <td>107</td>\n",
       "    </tr>\n",
       "    <tr>\n",
       "      <th>2</th>\n",
       "      <td>2021-10-04</td>\n",
       "      <td>Heat-Hawks</td>\n",
       "      <td>Heat</td>\n",
       "      <td>125</td>\n",
       "      <td>Hawks</td>\n",
       "      <td>99</td>\n",
       "    </tr>\n",
       "    <tr>\n",
       "      <th>3</th>\n",
       "      <td>2021-10-04</td>\n",
       "      <td>Celtics-Magic</td>\n",
       "      <td>Celtics</td>\n",
       "      <td>98</td>\n",
       "      <td>Magic</td>\n",
       "      <td>97</td>\n",
       "    </tr>\n",
       "    <tr>\n",
       "      <th>4</th>\n",
       "      <td>2021-10-04</td>\n",
       "      <td>Tim-Pelicans</td>\n",
       "      <td>Tim</td>\n",
       "      <td>117</td>\n",
       "      <td>Pelicans</td>\n",
       "      <td>114</td>\n",
       "    </tr>\n",
       "  </tbody>\n",
       "</table>\n",
       "</div>"
      ],
      "text/plain": [
       "        date          match   winner  point_winner     loser  point_loser\n",
       "0 2021-10-03    Lakers-Nets     Nets           123    Lakers           97\n",
       "1 2021-10-04  Raptors-76ers  Raptors           123     76ers          107\n",
       "2 2021-10-04     Heat-Hawks     Heat           125     Hawks           99\n",
       "3 2021-10-04  Celtics-Magic  Celtics            98     Magic           97\n",
       "4 2021-10-04   Tim-Pelicans      Tim           117  Pelicans          114"
      ]
     },
     "execution_count": 64,
     "metadata": {},
     "output_type": "execute_result"
    }
   ],
   "source": [
    "df = pd.read_excel('nba2021.xlsx')\n",
    "df.head()"
   ]
  },
  {
   "cell_type": "code",
   "execution_count": 65,
   "id": "c8a5bb0d",
   "metadata": {},
   "outputs": [],
   "source": [
    "#organizando uma list em ordem alfabetica\n",
    "#lista = list(df['winner'].unique())"
   ]
  },
  {
   "cell_type": "code",
   "execution_count": 67,
   "id": "6b9c2057",
   "metadata": {},
   "outputs": [],
   "source": [
    "#primeiro temos que ordenar a coluna que queremos ordenar dentro do Df e usar o seguinte código\n",
    "df.sort_values(by=['winner'], inplace=True)\n",
    "#esse código está organizando o Df pela a ordem da coluna Winner e notamos q o index fica todo remexido\n",
    "#importante usar inplace=True pois temos que alterar o Df.\n"
   ]
  },
  {
   "cell_type": "code",
   "execution_count": 100,
   "id": "c18d267e",
   "metadata": {},
   "outputs": [
    {
     "data": {
      "text/plain": [
       "['76ers',\n",
       " 'Blazers',\n",
       " 'Bucks',\n",
       " 'Bulls',\n",
       " 'Cavaliers',\n",
       " 'Celtics',\n",
       " 'Clippers',\n",
       " 'Grizzlies',\n",
       " 'Hawks',\n",
       " 'Heat',\n",
       " 'Hornets',\n",
       " 'Jazz',\n",
       " 'Kings',\n",
       " 'Knicks',\n",
       " 'Lakers',\n",
       " 'Magic',\n",
       " 'Mavericks',\n",
       " 'Nets',\n",
       " 'Nuggets',\n",
       " 'Pacers',\n",
       " 'Pelicans',\n",
       " 'Pistons',\n",
       " 'Raptors',\n",
       " 'Rockets',\n",
       " 'Spurs',\n",
       " 'Suns',\n",
       " 'Thunder',\n",
       " 'Tim',\n",
       " 'Warriors',\n",
       " 'Wizards']"
      ]
     },
     "execution_count": 100,
     "metadata": {},
     "output_type": "execute_result"
    }
   ],
   "source": [
    "lista = list(df['winner'].unique())\n",
    "lista"
   ]
  },
  {
   "cell_type": "code",
   "execution_count": 83,
   "id": "78674e9d",
   "metadata": {},
   "outputs": [
    {
     "data": {
      "text/html": [
       "<div>\n",
       "<style scoped>\n",
       "    .dataframe tbody tr th:only-of-type {\n",
       "        vertical-align: middle;\n",
       "    }\n",
       "\n",
       "    .dataframe tbody tr th {\n",
       "        vertical-align: top;\n",
       "    }\n",
       "\n",
       "    .dataframe thead th {\n",
       "        text-align: right;\n",
       "    }\n",
       "</style>\n",
       "<table border=\"1\" class=\"dataframe\">\n",
       "  <thead>\n",
       "    <tr style=\"text-align: right;\">\n",
       "      <th></th>\n",
       "      <th>date</th>\n",
       "      <th>match</th>\n",
       "      <th>winner</th>\n",
       "      <th>point_winner</th>\n",
       "      <th>loser</th>\n",
       "      <th>point_loser</th>\n",
       "    </tr>\n",
       "  </thead>\n",
       "  <tbody>\n",
       "    <tr>\n",
       "      <th>30</th>\n",
       "      <td>2021-10-08</td>\n",
       "      <td>Warriors-Lakers</td>\n",
       "      <td>Warriors</td>\n",
       "      <td>121</td>\n",
       "      <td>Lakers</td>\n",
       "      <td>114</td>\n",
       "    </tr>\n",
       "    <tr>\n",
       "      <th>67</th>\n",
       "      <td>2021-10-19</td>\n",
       "      <td>Lakers-Warriors</td>\n",
       "      <td>Warriors</td>\n",
       "      <td>121</td>\n",
       "      <td>Lakers</td>\n",
       "      <td>114</td>\n",
       "    </tr>\n",
       "    <tr>\n",
       "      <th>46</th>\n",
       "      <td>2021-10-12</td>\n",
       "      <td>Lakers-Warriors</td>\n",
       "      <td>Warriors</td>\n",
       "      <td>111</td>\n",
       "      <td>Lakers</td>\n",
       "      <td>99</td>\n",
       "    </tr>\n",
       "  </tbody>\n",
       "</table>\n",
       "</div>"
      ],
      "text/plain": [
       "         date            match    winner  point_winner   loser  point_loser\n",
       "30 2021-10-08  Warriors-Lakers  Warriors           121  Lakers          114\n",
       "67 2021-10-19  Lakers-Warriors  Warriors           121  Lakers          114\n",
       "46 2021-10-12  Lakers-Warriors  Warriors           111  Lakers           99"
      ]
     },
     "execution_count": 83,
     "metadata": {},
     "output_type": "execute_result"
    }
   ],
   "source": [
    "match = df[(df['match'] == 'Lakers-Warriors') | (df['match'] == 'Warriors-Lakers')]\n",
    "match"
   ]
  },
  {
   "cell_type": "code",
   "execution_count": null,
   "id": "26fc9b9d",
   "metadata": {},
   "outputs": [],
   "source": []
  },
  {
   "cell_type": "code",
   "execution_count": null,
   "id": "860d3834",
   "metadata": {},
   "outputs": [],
   "source": [
    "#agora vamos testar GRaficos\n"
   ]
  },
  {
   "cell_type": "code",
   "execution_count": 85,
   "id": "99ef2cac",
   "metadata": {},
   "outputs": [],
   "source": [
    "fig = po.plot([{\n",
    "    'x':match.match,\n",
    "    'y':match.winner\n",
    "}])"
   ]
  },
  {
   "cell_type": "code",
   "execution_count": 90,
   "id": "eaf06865",
   "metadata": {},
   "outputs": [
    {
     "data": {
      "text/plain": [
       "'temp-plot.html'"
      ]
     },
     "execution_count": 90,
     "metadata": {},
     "output_type": "execute_result"
    }
   ],
   "source": [
    "po.plot([{\n",
    "    'x':match.date,\n",
    "    'y':match[col],\n",
    "    'name':col\n",
    "} for col in (match.columns[2], match.columns[4])])"
   ]
  },
  {
   "cell_type": "code",
   "execution_count": 92,
   "id": "d4c97012",
   "metadata": {},
   "outputs": [
    {
     "data": {
      "text/plain": [
       "'temp-plot.html'"
      ]
     },
     "execution_count": 92,
     "metadata": {},
     "output_type": "execute_result"
    }
   ],
   "source": [
    "po.plot([\n",
    "    go.Scatter(\n",
    "        x=match.date,\n",
    "        y=match.winner,\n",
    "        mode='markers'\n",
    "    )\n",
    "])"
   ]
  },
  {
   "cell_type": "code",
   "execution_count": 93,
   "id": "40e072da",
   "metadata": {},
   "outputs": [],
   "source": [
    "data = [go.Scatter(\n",
    "    x = match.date,\n",
    "    y = match.winner,\n",
    "    mode = 'markers'\n",
    ")]"
   ]
  },
  {
   "cell_type": "code",
   "execution_count": 101,
   "id": "6f9912a8",
   "metadata": {},
   "outputs": [],
   "source": [
    "layout = go.Layout(title='Vitoria', xaxis= dict(title='date'), yaxis=dict(title='win'), hovermode='closest')\n",
    "figure = go.Figure(data = data, layout = layout)"
   ]
  },
  {
   "cell_type": "code",
   "execution_count": 102,
   "id": "0764dee6",
   "metadata": {},
   "outputs": [
    {
     "data": {
      "text/plain": [
       "'temp-plot.html'"
      ]
     },
     "execution_count": 102,
     "metadata": {},
     "output_type": "execute_result"
    }
   ],
   "source": [
    "po.plot(figure)"
   ]
  },
  {
   "cell_type": "code",
   "execution_count": 103,
   "id": "efd35e21",
   "metadata": {},
   "outputs": [
    {
     "data": {
      "text/html": [
       "<div>\n",
       "<style scoped>\n",
       "    .dataframe tbody tr th:only-of-type {\n",
       "        vertical-align: middle;\n",
       "    }\n",
       "\n",
       "    .dataframe tbody tr th {\n",
       "        vertical-align: top;\n",
       "    }\n",
       "\n",
       "    .dataframe thead th {\n",
       "        text-align: right;\n",
       "    }\n",
       "</style>\n",
       "<table border=\"1\" class=\"dataframe\">\n",
       "  <thead>\n",
       "    <tr style=\"text-align: right;\">\n",
       "      <th></th>\n",
       "      <th>date</th>\n",
       "      <th>match</th>\n",
       "      <th>winner</th>\n",
       "      <th>point_winner</th>\n",
       "      <th>loser</th>\n",
       "      <th>point_loser</th>\n",
       "    </tr>\n",
       "  </thead>\n",
       "  <tbody>\n",
       "    <tr>\n",
       "      <th>184</th>\n",
       "      <td>2021-11-04</td>\n",
       "      <td>Pistons-76ers</td>\n",
       "      <td>76ers</td>\n",
       "      <td>109</td>\n",
       "      <td>Pistons</td>\n",
       "      <td>98</td>\n",
       "    </tr>\n",
       "    <tr>\n",
       "      <th>159</th>\n",
       "      <td>2021-11-01</td>\n",
       "      <td>76ers-Blazers</td>\n",
       "      <td>76ers</td>\n",
       "      <td>113</td>\n",
       "      <td>Blazers</td>\n",
       "      <td>103</td>\n",
       "    </tr>\n",
       "    <tr>\n",
       "      <th>147</th>\n",
       "      <td>2021-10-30</td>\n",
       "      <td>76ers-Hawks</td>\n",
       "      <td>76ers</td>\n",
       "      <td>122</td>\n",
       "      <td>Hawks</td>\n",
       "      <td>94</td>\n",
       "    </tr>\n",
       "    <tr>\n",
       "      <th>73</th>\n",
       "      <td>2021-10-20</td>\n",
       "      <td>Pelicans-76ers</td>\n",
       "      <td>76ers</td>\n",
       "      <td>117</td>\n",
       "      <td>Pelicans</td>\n",
       "      <td>97</td>\n",
       "    </tr>\n",
       "    <tr>\n",
       "      <th>40</th>\n",
       "      <td>2021-10-11</td>\n",
       "      <td>76ers-Nets</td>\n",
       "      <td>76ers</td>\n",
       "      <td>115</td>\n",
       "      <td>Nets</td>\n",
       "      <td>104</td>\n",
       "    </tr>\n",
       "  </tbody>\n",
       "</table>\n",
       "</div>"
      ],
      "text/plain": [
       "          date           match winner  point_winner     loser  point_loser\n",
       "184 2021-11-04   Pistons-76ers  76ers           109   Pistons           98\n",
       "159 2021-11-01   76ers-Blazers  76ers           113   Blazers          103\n",
       "147 2021-10-30     76ers-Hawks  76ers           122     Hawks           94\n",
       "73  2021-10-20  Pelicans-76ers  76ers           117  Pelicans           97\n",
       "40  2021-10-11      76ers-Nets  76ers           115      Nets          104"
      ]
     },
     "execution_count": 103,
     "metadata": {},
     "output_type": "execute_result"
    }
   ],
   "source": [
    "df.head()"
   ]
  },
  {
   "cell_type": "code",
   "execution_count": 114,
   "id": "94d290d6",
   "metadata": {},
   "outputs": [],
   "source": [
    "graf = [go.Bar(\n",
    "    x = df.date,\n",
    "    y = df.point_winner,\n",
    ")]"
   ]
  },
  {
   "cell_type": "code",
   "execution_count": 115,
   "id": "efd3037f",
   "metadata": {},
   "outputs": [],
   "source": [
    "layout = go.Layout(title=\"TEstando\")\n",
    "fig2 = go.Figure(data = graf, layout=layout)"
   ]
  },
  {
   "cell_type": "code",
   "execution_count": 116,
   "id": "6b4ebe10",
   "metadata": {},
   "outputs": [
    {
     "data": {
      "text/plain": [
       "'temp-plot.html'"
      ]
     },
     "execution_count": 116,
     "metadata": {},
     "output_type": "execute_result"
    }
   ],
   "source": [
    "po.plot(fig2)"
   ]
  },
  {
   "cell_type": "code",
   "execution_count": null,
   "id": "a9eace1c",
   "metadata": {},
   "outputs": [],
   "source": []
  },
  {
   "cell_type": "code",
   "execution_count": null,
   "id": "2ef8c27f",
   "metadata": {},
   "outputs": [],
   "source": []
  },
  {
   "cell_type": "code",
   "execution_count": null,
   "id": "04762dcd",
   "metadata": {},
   "outputs": [],
   "source": []
  }
 ],
 "metadata": {
  "kernelspec": {
   "display_name": "Python 3",
   "language": "python",
   "name": "python3"
  },
  "language_info": {
   "codemirror_mode": {
    "name": "ipython",
    "version": 3
   },
   "file_extension": ".py",
   "mimetype": "text/x-python",
   "name": "python",
   "nbconvert_exporter": "python",
   "pygments_lexer": "ipython3",
   "version": "3.8.8"
  }
 },
 "nbformat": 4,
 "nbformat_minor": 5
}
