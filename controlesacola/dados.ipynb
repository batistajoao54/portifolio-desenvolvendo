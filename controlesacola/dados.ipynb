{
 "cells": [
  {
   "cell_type": "code",
   "execution_count": 43,
   "metadata": {},
   "outputs": [],
   "source": [
    "import random\n",
    "import pandas as pd"
   ]
  },
  {
   "cell_type": "code",
   "execution_count": 102,
   "metadata": {},
   "outputs": [],
   "source": [
    "os = ['OS000001']\n",
    "colador = ['fabiana','diomar','gerlucio','rikelme','wescley','toin','sr.carlos']\n",
    "marca = ['marbelle']\n",
    "cor = ['azul','preta','vermelha']\n",
    "tamanho = ['P','M','M2','G']\n",
    "quantidade = [100,200,250,300,500,50]\n",
    "pegou_entregou = ['pegou','entregou']\n"
   ]
  },
  {
   "cell_type": "code",
   "execution_count": 103,
   "metadata": {},
   "outputs": [],
   "source": [
    "lista_OS = []\n",
    "lista_colaborador = []\n",
    "lista_marca = []\n",
    "lista_cor = []\n",
    "lista_tamanho = []\n",
    "lista_quantidade = []\n",
    "lista_status = []"
   ]
  },
  {
   "cell_type": "code",
   "execution_count": 104,
   "metadata": {},
   "outputs": [
    {
     "name": "stdout",
     "output_type": "stream",
     "text": [
      "fim\n"
     ]
    }
   ],
   "source": [
    "for i in range(100):\n",
    "    lista_OS.append(random.choice(os))\n",
    "    lista_colaborador.append(random.choice(colador))\n",
    "    lista_marca.append(random.choice(marca))\n",
    "    lista_cor.append(random.choice(cor))\n",
    "    lista_tamanho.append(random.choice(tamanho))\n",
    "    lista_quantidade.append(random.choice(quantidade))\n",
    "    lista_status.append(random.choice(pegou_entregou))\n",
    "\n",
    "print('fim')\n",
    "\n"
   ]
  },
  {
   "cell_type": "code",
   "execution_count": 105,
   "metadata": {},
   "outputs": [],
   "source": [
    "df = pd.DataFrame()\n"
   ]
  },
  {
   "cell_type": "code",
   "execution_count": 106,
   "metadata": {},
   "outputs": [],
   "source": [
    "df['OS'] = lista_OS\n",
    "df['Marca'] = lista_marca\n",
    "df['Tamanho'] = lista_tamanho\n",
    "df['Cor'] = lista_cor\n",
    "df['Colador'] = lista_colaborador\n",
    "df['Quantidade'] = lista_quantidade\n",
    "df['Status'] = lista_status"
   ]
  },
  {
   "cell_type": "code",
   "execution_count": 107,
   "metadata": {},
   "outputs": [
    {
     "data": {
      "text/html": [
       "<div>\n",
       "<style scoped>\n",
       "    .dataframe tbody tr th:only-of-type {\n",
       "        vertical-align: middle;\n",
       "    }\n",
       "\n",
       "    .dataframe tbody tr th {\n",
       "        vertical-align: top;\n",
       "    }\n",
       "\n",
       "    .dataframe thead th {\n",
       "        text-align: right;\n",
       "    }\n",
       "</style>\n",
       "<table border=\"1\" class=\"dataframe\">\n",
       "  <thead>\n",
       "    <tr style=\"text-align: right;\">\n",
       "      <th></th>\n",
       "      <th>OS</th>\n",
       "      <th>Marca</th>\n",
       "      <th>Tamanho</th>\n",
       "      <th>Cor</th>\n",
       "      <th>Colador</th>\n",
       "      <th>Quantidade</th>\n",
       "      <th>Status</th>\n",
       "    </tr>\n",
       "  </thead>\n",
       "  <tbody>\n",
       "    <tr>\n",
       "      <th>0</th>\n",
       "      <td>OS000001</td>\n",
       "      <td>marbelle</td>\n",
       "      <td>G</td>\n",
       "      <td>preta</td>\n",
       "      <td>toin</td>\n",
       "      <td>500</td>\n",
       "      <td>pegou</td>\n",
       "    </tr>\n",
       "    <tr>\n",
       "      <th>1</th>\n",
       "      <td>OS000001</td>\n",
       "      <td>marbelle</td>\n",
       "      <td>M</td>\n",
       "      <td>preta</td>\n",
       "      <td>gerlucio</td>\n",
       "      <td>100</td>\n",
       "      <td>entregou</td>\n",
       "    </tr>\n",
       "    <tr>\n",
       "      <th>2</th>\n",
       "      <td>OS000001</td>\n",
       "      <td>marbelle</td>\n",
       "      <td>P</td>\n",
       "      <td>preta</td>\n",
       "      <td>gerlucio</td>\n",
       "      <td>250</td>\n",
       "      <td>entregou</td>\n",
       "    </tr>\n",
       "    <tr>\n",
       "      <th>3</th>\n",
       "      <td>OS000001</td>\n",
       "      <td>marbelle</td>\n",
       "      <td>M2</td>\n",
       "      <td>vermelha</td>\n",
       "      <td>rikelme</td>\n",
       "      <td>250</td>\n",
       "      <td>entregou</td>\n",
       "    </tr>\n",
       "    <tr>\n",
       "      <th>4</th>\n",
       "      <td>OS000001</td>\n",
       "      <td>marbelle</td>\n",
       "      <td>M2</td>\n",
       "      <td>azul</td>\n",
       "      <td>diomar</td>\n",
       "      <td>200</td>\n",
       "      <td>entregou</td>\n",
       "    </tr>\n",
       "  </tbody>\n",
       "</table>\n",
       "</div>"
      ],
      "text/plain": [
       "         OS     Marca Tamanho       Cor   Colador  Quantidade    Status\n",
       "0  OS000001  marbelle       G     preta      toin         500     pegou\n",
       "1  OS000001  marbelle       M     preta  gerlucio         100  entregou\n",
       "2  OS000001  marbelle       P     preta  gerlucio         250  entregou\n",
       "3  OS000001  marbelle      M2  vermelha   rikelme         250  entregou\n",
       "4  OS000001  marbelle      M2      azul    diomar         200  entregou"
      ]
     },
     "execution_count": 107,
     "metadata": {},
     "output_type": "execute_result"
    }
   ],
   "source": [
    "df.head()"
   ]
  },
  {
   "cell_type": "code",
   "execution_count": 108,
   "metadata": {},
   "outputs": [],
   "source": [
    "df_marca = df.groupby(['OS','Marca','Tamanho','Cor','Colador','Quantidade','Status']).any().reset_index()"
   ]
  },
  {
   "cell_type": "code",
   "execution_count": 109,
   "metadata": {},
   "outputs": [
    {
     "data": {
      "text/html": [
       "<div>\n",
       "<style scoped>\n",
       "    .dataframe tbody tr th:only-of-type {\n",
       "        vertical-align: middle;\n",
       "    }\n",
       "\n",
       "    .dataframe tbody tr th {\n",
       "        vertical-align: top;\n",
       "    }\n",
       "\n",
       "    .dataframe thead th {\n",
       "        text-align: right;\n",
       "    }\n",
       "</style>\n",
       "<table border=\"1\" class=\"dataframe\">\n",
       "  <thead>\n",
       "    <tr style=\"text-align: right;\">\n",
       "      <th></th>\n",
       "      <th>OS</th>\n",
       "      <th>Marca</th>\n",
       "      <th>Tamanho</th>\n",
       "      <th>Cor</th>\n",
       "      <th>Colador</th>\n",
       "      <th>Quantidade</th>\n",
       "      <th>Status</th>\n",
       "    </tr>\n",
       "  </thead>\n",
       "  <tbody>\n",
       "    <tr>\n",
       "      <th>0</th>\n",
       "      <td>OS000001</td>\n",
       "      <td>marbelle</td>\n",
       "      <td>G</td>\n",
       "      <td>azul</td>\n",
       "      <td>fabiana</td>\n",
       "      <td>50</td>\n",
       "      <td>entregou</td>\n",
       "    </tr>\n",
       "    <tr>\n",
       "      <th>1</th>\n",
       "      <td>OS000001</td>\n",
       "      <td>marbelle</td>\n",
       "      <td>G</td>\n",
       "      <td>azul</td>\n",
       "      <td>fabiana</td>\n",
       "      <td>100</td>\n",
       "      <td>pegou</td>\n",
       "    </tr>\n",
       "    <tr>\n",
       "      <th>2</th>\n",
       "      <td>OS000001</td>\n",
       "      <td>marbelle</td>\n",
       "      <td>G</td>\n",
       "      <td>azul</td>\n",
       "      <td>rikelme</td>\n",
       "      <td>300</td>\n",
       "      <td>pegou</td>\n",
       "    </tr>\n",
       "    <tr>\n",
       "      <th>3</th>\n",
       "      <td>OS000001</td>\n",
       "      <td>marbelle</td>\n",
       "      <td>G</td>\n",
       "      <td>azul</td>\n",
       "      <td>sr.carlos</td>\n",
       "      <td>250</td>\n",
       "      <td>entregou</td>\n",
       "    </tr>\n",
       "    <tr>\n",
       "      <th>4</th>\n",
       "      <td>OS000001</td>\n",
       "      <td>marbelle</td>\n",
       "      <td>G</td>\n",
       "      <td>azul</td>\n",
       "      <td>sr.carlos</td>\n",
       "      <td>500</td>\n",
       "      <td>pegou</td>\n",
       "    </tr>\n",
       "    <tr>\n",
       "      <th>...</th>\n",
       "      <td>...</td>\n",
       "      <td>...</td>\n",
       "      <td>...</td>\n",
       "      <td>...</td>\n",
       "      <td>...</td>\n",
       "      <td>...</td>\n",
       "      <td>...</td>\n",
       "    </tr>\n",
       "    <tr>\n",
       "      <th>89</th>\n",
       "      <td>OS000001</td>\n",
       "      <td>marbelle</td>\n",
       "      <td>P</td>\n",
       "      <td>vermelha</td>\n",
       "      <td>rikelme</td>\n",
       "      <td>500</td>\n",
       "      <td>pegou</td>\n",
       "    </tr>\n",
       "    <tr>\n",
       "      <th>90</th>\n",
       "      <td>OS000001</td>\n",
       "      <td>marbelle</td>\n",
       "      <td>P</td>\n",
       "      <td>vermelha</td>\n",
       "      <td>sr.carlos</td>\n",
       "      <td>50</td>\n",
       "      <td>entregou</td>\n",
       "    </tr>\n",
       "    <tr>\n",
       "      <th>91</th>\n",
       "      <td>OS000001</td>\n",
       "      <td>marbelle</td>\n",
       "      <td>P</td>\n",
       "      <td>vermelha</td>\n",
       "      <td>sr.carlos</td>\n",
       "      <td>50</td>\n",
       "      <td>pegou</td>\n",
       "    </tr>\n",
       "    <tr>\n",
       "      <th>92</th>\n",
       "      <td>OS000001</td>\n",
       "      <td>marbelle</td>\n",
       "      <td>P</td>\n",
       "      <td>vermelha</td>\n",
       "      <td>toin</td>\n",
       "      <td>500</td>\n",
       "      <td>pegou</td>\n",
       "    </tr>\n",
       "    <tr>\n",
       "      <th>93</th>\n",
       "      <td>OS000001</td>\n",
       "      <td>marbelle</td>\n",
       "      <td>P</td>\n",
       "      <td>vermelha</td>\n",
       "      <td>wescley</td>\n",
       "      <td>50</td>\n",
       "      <td>entregou</td>\n",
       "    </tr>\n",
       "  </tbody>\n",
       "</table>\n",
       "<p>94 rows × 7 columns</p>\n",
       "</div>"
      ],
      "text/plain": [
       "          OS     Marca Tamanho       Cor    Colador  Quantidade    Status\n",
       "0   OS000001  marbelle       G      azul    fabiana          50  entregou\n",
       "1   OS000001  marbelle       G      azul    fabiana         100     pegou\n",
       "2   OS000001  marbelle       G      azul    rikelme         300     pegou\n",
       "3   OS000001  marbelle       G      azul  sr.carlos         250  entregou\n",
       "4   OS000001  marbelle       G      azul  sr.carlos         500     pegou\n",
       "..       ...       ...     ...       ...        ...         ...       ...\n",
       "89  OS000001  marbelle       P  vermelha    rikelme         500     pegou\n",
       "90  OS000001  marbelle       P  vermelha  sr.carlos          50  entregou\n",
       "91  OS000001  marbelle       P  vermelha  sr.carlos          50     pegou\n",
       "92  OS000001  marbelle       P  vermelha       toin         500     pegou\n",
       "93  OS000001  marbelle       P  vermelha    wescley          50  entregou\n",
       "\n",
       "[94 rows x 7 columns]"
      ]
     },
     "execution_count": 109,
     "metadata": {},
     "output_type": "execute_result"
    }
   ],
   "source": [
    "df_marca"
   ]
  },
  {
   "cell_type": "code",
   "execution_count": 111,
   "metadata": {},
   "outputs": [],
   "source": [
    "df_G = df_marca[df_marca['Tamanho'] == 'G']\n",
    "df_M2 = df_marca[df_marca['Tamanho'] == 'M2']\n",
    "df_M = df_marca[df_marca['Tamanho'] == 'M']\n",
    "df_P = df_marca[df_marca['Tamanho'] == 'P']"
   ]
  },
  {
   "cell_type": "code",
   "execution_count": 133,
   "metadata": {},
   "outputs": [],
   "source": [
    "df_P_azul = df_P[df_P['Cor'] == 'azul']\n",
    "df_P_preta = df_P[df_P['Cor'] == 'preta']\n",
    "df_P_vermelha = df_P[df_P['Cor'] == 'vermelha']"
   ]
  },
  {
   "cell_type": "code",
   "execution_count": 136,
   "metadata": {},
   "outputs": [
    {
     "data": {
      "text/plain": [
       "1150"
      ]
     },
     "execution_count": 136,
     "metadata": {},
     "output_type": "execute_result"
    }
   ],
   "source": [
    "df_P_vermelha[df_P_vermelha['Status'] == 'pegou'].Quantidade.sum()\n"
   ]
  },
  {
   "cell_type": "code",
   "execution_count": null,
   "metadata": {},
   "outputs": [],
   "source": [
    "'''\n",
    "os1 marbelle G azul 1150\n",
    "os1 marbelle G preta 1250\n",
    "os1 marbelle G vermelha 900\n",
    "\n",
    "os1 marbelle M2 azul 1400\n",
    "os1 marbelle M2 preta 1200\n",
    "os1 marbelle M2 vermelha 700\n",
    "\n",
    "os1 marbelle M azul 750\n",
    "os1 marbelle M preta 250\n",
    "os1 marbelle M vermelha 700\n",
    "\n",
    "os1 marbelle P azul 950\n",
    "os1 marbelle P preta 500\n",
    "os1 marbelle P vermelha 1150\n",
    "\n",
    "\n",
    "'''"
   ]
  },
  {
   "cell_type": "code",
   "execution_count": null,
   "metadata": {},
   "outputs": [],
   "source": [
    "df.to_csv(\"dados.csv\", index=False)"
   ]
  }
 ],
 "metadata": {
  "kernelspec": {
   "display_name": "Python 3.10.4 64-bit",
   "language": "python",
   "name": "python3"
  },
  "language_info": {
   "codemirror_mode": {
    "name": "ipython",
    "version": 3
   },
   "file_extension": ".py",
   "mimetype": "text/x-python",
   "name": "python",
   "nbconvert_exporter": "python",
   "pygments_lexer": "ipython3",
   "version": "3.10.4"
  },
  "orig_nbformat": 4,
  "vscode": {
   "interpreter": {
    "hash": "4abbec6116583c1b25f4b12bbaa0983129a03a6dded2f3c9af2bca749c13dbb1"
   }
  }
 },
 "nbformat": 4,
 "nbformat_minor": 2
}
