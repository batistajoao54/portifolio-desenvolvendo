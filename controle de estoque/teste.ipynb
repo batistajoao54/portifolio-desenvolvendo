{
 "cells": [
  {
   "cell_type": "code",
   "execution_count": 3,
   "metadata": {},
   "outputs": [],
   "source": [
    "import pandas as pd\n",
    "import requests as r\n",
    "\n",
    "\n",
    "url = 'https://raw.githubusercontent.com/batistajoao54/portifolio-desenvolvendo/main/dados.csv'\n",
    "res = r.get(url)\n",
    "tabela = res.text\n",
    "\n",
    "separados = tabela.split()\n",
    "#nome = separados.split(',')\n",
    "\n"
   ]
  },
  {
   "cell_type": "code",
   "execution_count": 5,
   "metadata": {},
   "outputs": [
    {
     "name": "stdout",
     "output_type": "stream",
     "text": [
      "['bebemania', 'marbelle', 'marbelle', 'marbelle', 'dubali', 'oliver', 'oliver', 'eduardobaby', 'oliver', 'deposito', 'saidadematernidade', 'marbelle', 'gabrielecardoso', 'israelbaby', 'loli', 'dldvariedades', 'dubali', 'marbelle', 'mad', 'pingodeouro']\n"
     ]
    }
   ],
   "source": [
    "dados = []\n",
    "\n",
    "for i in range(len(separados)):\n",
    "    palavra = separados[i]\n",
    "    linha = palavra.split(',')\n",
    "    dados.append(linha)\n",
    "    \n",
    "\n",
    "data = []\n",
    "\n",
    "for i in dados[1:]:\n",
    "    datas= i[0]\n",
    "    data.append(datas)\n",
    "    \n",
    "   \n",
    "nome = []\n",
    "\n",
    "for i in dados[1:]:\n",
    "    nomes= i[1]\n",
    "    nome.append(nomes)\n",
    "    \n",
    "\n",
    "marca = []\n",
    "\n",
    "for i in dados[1:]:\n",
    "    marcas= i[2]\n",
    "    marca.append(marcas)\n",
    "    \n",
    "\n",
    "#tipo = []\n",
    "\n",
    "#for i in dados[1:]:\n",
    "#    tipos= i[3]\n",
    "#    tipo.append(tipos)\n",
    "\n",
    "print(nome)"
   ]
  },
  {
   "cell_type": "code",
   "execution_count": 8,
   "metadata": {},
   "outputs": [
    {
     "name": "stdout",
     "output_type": "stream",
     "text": [
      "['08-05-2022', 'marbelle', 'fundo', 'maniaamarela', 'deposito', '200']\n"
     ]
    }
   ],
   "source": [
    "tipo = []\n",
    "\n",
    "#for i in dados[1:]:\n",
    "#    tipos= i[3]\n",
    "#    tipo.append(tipos)\n",
    "print(dados[1:])"
   ]
  }
 ],
 "metadata": {
  "interpreter": {
   "hash": "0cb1a90d466c3cc1a833470e90a438d0c311d9773b4b774362d94ac6bf1aac63"
  },
  "kernelspec": {
   "display_name": "Python 3.10.4 64-bit",
   "language": "python",
   "name": "python3"
  },
  "language_info": {
   "codemirror_mode": {
    "name": "ipython",
    "version": 3
   },
   "file_extension": ".py",
   "mimetype": "text/x-python",
   "name": "python",
   "nbconvert_exporter": "python",
   "pygments_lexer": "ipython3",
   "version": "3.10.4"
  },
  "orig_nbformat": 4
 },
 "nbformat": 4,
 "nbformat_minor": 2
}
